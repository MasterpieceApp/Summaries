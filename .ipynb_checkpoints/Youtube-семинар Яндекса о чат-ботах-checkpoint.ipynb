{
 "cells": [
  {
   "cell_type": "markdown",
   "metadata": {},
   "source": [
    "# 1. Боты общего назначения"
   ]
  },
  {
   "cell_type": "code",
   "execution_count": null,
   "metadata": {
    "collapsed": true
   },
   "outputs": [],
   "source": []
  },
  {
   "cell_type": "markdown",
   "metadata": {},
   "source": [
    "# 2. Goal-oriented боты"
   ]
  },
  {
   "cell_type": "markdown",
   "metadata": {},
   "source": [
    "Доступные датасеты:\n",
    "\n",
    "* [Dialog State Tracking Challenge](https://www.microsoft.com/en-us/research/event/dialog-state-tracking-challenge/)\n",
    "* [ATIS](https://github.com/mesnilgr/is13#atis-data)"
   ]
  },
  {
   "cell_type": "markdown",
   "metadata": {},
   "source": [
    "##### Общая схема\n",
    "\n",
    "<img src=\"img/scheme.png\" width=\"45%\">"
   ]
  },
  {
   "cell_type": "markdown",
   "metadata": {},
   "source": [
    "## Подходы\n",
    "\n",
    "* Callflow\n",
    "* Formfilling\n",
    "* Reinforcement Learning\n",
    "* Supervised Learning\n",
    "* Supervised Learning + Reinforcement Learning\n",
    "\n",
    "Разберем их подробнее."
   ]
  },
  {
   "cell_type": "markdown",
   "metadata": {},
   "source": [
    "### Callflow\n",
    "\n",
    "Callflow = конечный автомат. Работает по схеме: _\"Спросить первое\", \"спросить второе\", \"конец\"_."
   ]
  },
  {
   "cell_type": "markdown",
   "metadata": {},
   "source": [
    "__Плюсы__:\n",
    "\n",
    "+ Нагляден.\n",
    "+ Может делать непрограммист.\n",
    "\n",
    "__Минусы__:\n",
    "\n",
    "- Не учитывает модели поведения: _\"Здравствуйте, я хочу такси\"_ или _\"На Льва Толстого, 16\"_ - способы начать один и тот же реквест.\n",
    "- Не учитывает накопленный опыт."
   ]
  },
  {
   "cell_type": "markdown",
   "metadata": {},
   "source": [
    "## Formfilling\n",
    "\n",
    "| Слот | Содержимое |\n",
    "|:----|:---------|\n",
    "| Откуда | \\_\\_\\_\\_\\_\\_\\_\\_ |\n",
    "| Куда | \\_\\_\\_\\_\\_\\_\\_\\_ |\n",
    "| Когда | \\_\\_\\_\\_\\_\\_\\_\\_ |\n",
    "\n",
    "etc."
   ]
  },
  {
   "cell_type": "markdown",
   "metadata": {},
   "source": [
    "##### Formfilling NLU\n",
    "  \n",
    "* __Классификатор интентов__\n",
    "      \n",
    "      \"Мне нужно заказать такси\" -> `Заказ_такси`\n",
    "      \"Какая погода на сегодня?\"  -> `Прогноз_погоды`\n",
    "      \n",
    "    * Алгоритмы: `LogReg`, `NN`, ...  \n",
    "  \n",
    "  \n",
    "* __Теггер слотов__\n",
    "\n",
    "      \"Такси давай на улицу Толстого, 16\"\n",
    "                        ^^^^^^^^^^^^\n",
    "\n",
    "    * Алгоритмы: `CRF`, `RNN`, ..."
   ]
  },
  {
   "cell_type": "markdown",
   "metadata": {},
   "source": [
    "##### Natural Language Generation\n",
    "\n",
    "* __Подтвердить:__\n",
    "      Откуда=\"улица Толстого\"\n",
    "\n",
    "* __Результат__\n",
    "      \"Вы заказали такси на улицу Толстого. Все верно?\"\n",
    "\n",
    "    * Алгоритмы: `Контекстно-свободные грамматики`, `NN`"
   ]
  },
  {
   "cell_type": "markdown",
   "metadata": {},
   "source": [
    "##### Dialogue Manager\n",
    "\n",
    "Связывает все вместе:\n",
    "\n",
    "1. Создает форму\n",
    "2. Инициирует действия\n",
    "3. etc.\n",
    "\n",
    "###### Вложенные формы\n",
    "\n",
    "Когда пользователь начинает, например, бронировать отель, а потом переспрашивает _\"а какая там погода?\"_\n",
    "\n",
    "* Формируется __стек форм__: то, о чем сейчас говорим, на верхушке стека.\n",
    "* __Переиспользование данных__: в примере выше то, где прогноз погоды должен быть взят, может быть выделено из предыдущей формы, что осталась ниже в стеке."
   ]
  },
  {
   "cell_type": "markdown",
   "metadata": {},
   "source": [
    "__Плюсы__\n",
    "\n",
    "* Пользователь может говорить, как ему удобно\n",
    "* Вся информация попадает в форму\n",
    "\n",
    "__Минусы__\n",
    "\n",
    "* DM логика из скриптов \n",
    "* Не учитывает ошибки ASR\n",
    "* Действия на основе интуиции дизайна диалога \n",
    "\n",
    "_(У них как-то делался в языке AML)_"
   ]
  },
  {
   "cell_type": "markdown",
   "metadata": {},
   "source": [
    "## Reinforcement learning\n",
    "\n",
    "Цель:\n",
    "\n",
    "* За минимальное количество шагов\n",
    "* Учитывая ошибки ASR"
   ]
  },
  {
   "cell_type": "markdown",
   "metadata": {},
   "source": [
    "<img src=\"img/RL-based dialogue.png\" width=\"50%\">"
   ]
  },
  {
   "cell_type": "markdown",
   "metadata": {},
   "source": [
    "RL в диалогах = 2 задачи:\n",
    "\n",
    "1. State Tracking / Belief Monitoring\n",
    "  - цель пользователя -> скрытое состояние (belief state)\n",
    "  - Байесовский вывод для трекинга belief state\n",
    "\n",
    "2. Action Selection / Policy Optimization\n",
    "  - belief state -> action (policy)\n",
    "  - RL оптимизирует политику"
   ]
  },
  {
   "cell_type": "markdown",
   "metadata": {},
   "source": [
    "Belief state = вектор из вероятностей находиться в таком-то состоянии для каждого из слота.\n",
    "\n",
    "<img src=\"img/belief state.png\" width=\"40%\">"
   ]
  },
  {
   "cell_type": "markdown",
   "metadata": {},
   "source": [
    "Дальше RL, который уточняет belief, если надо, и таким образом минимум вопросов.\n",
    "Что-то вроде Q-table."
   ]
  },
  {
   "cell_type": "markdown",
   "metadata": {},
   "source": [
    "<img src=\"img/two state example.png\" width=\"50%\">"
   ]
  },
  {
   "cell_type": "markdown",
   "metadata": {},
   "source": [
    "<img src=\"img/cumulative reward.png\" width=\"40%\">"
   ]
  },
  {
   "cell_type": "markdown",
   "metadata": {},
   "source": [
    "__Плюсы__\n",
    "\n",
    "* Учитывает модели пользовательского поведения\n",
    "* Действия на основе минимального количества шагов\n",
    "* Учитывает ошибки ASR\n",
    "* Может обучаться в production на миллионах пользователей\n",
    "\n",
    "__Минусы__\n",
    "\n",
    "* Необходим симулятор пользователя\n",
    "* Долго учится"
   ]
  },
  {
   "cell_type": "markdown",
   "metadata": {},
   "source": [
    "## Supervised Learning"
   ]
  },
  {
   "cell_type": "markdown",
   "metadata": {},
   "source": [
    "* Data driven подход\n",
    "* __Вход__: размеченные диалоги (NLU, NLG, Actions)\n",
    "* __Выход__: Actions (NLG, API calls)\n",
    "* __Задача__: реконструирование диалога\n",
    "\n",
    "* __Алгоритмы__: RNN всякие"
   ]
  },
  {
   "cell_type": "markdown",
   "metadata": {},
   "source": [
    "Может быть совмещено с RL. Но в продакшне ни у кого такого нет."
   ]
  },
  {
   "cell_type": "markdown",
   "metadata": {},
   "source": [
    "## Заключение\n",
    "\n",
    "* Callflow не гибко.\n",
    "* Formfilling'у нужно больше масштабируемости.\n",
    "* RL+SL каеф, но сложна."
   ]
  }
 ],
 "metadata": {
  "kernelspec": {
   "display_name": "Python 3",
   "language": "python",
   "name": "python3"
  },
  "language_info": {
   "codemirror_mode": {
    "name": "ipython",
    "version": 3
   },
   "file_extension": ".py",
   "mimetype": "text/x-python",
   "name": "python",
   "nbconvert_exporter": "python",
   "pygments_lexer": "ipython3",
   "version": "3.6.0"
  },
  "toc": {
   "colors": {
    "hover_highlight": "#DAA520",
    "running_highlight": "#FF0000",
    "selected_highlight": "#FFD700"
   },
   "moveMenuLeft": true,
   "nav_menu": {
    "height": "156px",
    "width": "252px"
   },
   "navigate_menu": true,
   "number_sections": false,
   "sideBar": true,
   "threshold": 4,
   "toc_cell": false,
   "toc_section_display": "block",
   "toc_window_display": false
  }
 },
 "nbformat": 4,
 "nbformat_minor": 2
}
