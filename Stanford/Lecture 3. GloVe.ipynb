{
 "cells": [
  {
   "cell_type": "markdown",
   "metadata": {},
   "source": [
    "# W2V revisited"
   ]
  },
  {
   "cell_type": "markdown",
   "metadata": {},
   "source": [
    "Про LR не говорит ничего. Обновление весов происходит сразу, но очень разреженно ($20000*1000$ - датасет, а обновление затрагивает $2m+1$ слов как максимум). На практике $m=5..10$"
   ]
  },
  {
   "cell_type": "markdown",
   "metadata": {},
   "source": [
    "Инициализация W2V происходит от взятия равномерно маленьких величин между двумя мелкими же константами."
   ]
  },
  {
   "cell_type": "markdown",
   "metadata": {},
   "source": [
    "__Проблема:__"
   ]
  },
  {
   "cell_type": "markdown",
   "metadata": {},
   "source": [
    "$$ p(o \\:|\\: c) = \\frac{\\exp(u_o^Tv_c)}{\\sum_{w=1}^V \\exp(u_w^Tv_c)} $$"
   ]
  },
  {
   "cell_type": "markdown",
   "metadata": {},
   "source": [
    "Числитель-то изи, а знаменатель по всему словарю для _каждого окна_."
   ]
  },
  {
   "cell_type": "markdown",
   "metadata": {},
   "source": [
    "__Решение:__ тренируется логрегрессия - числитель - для максимизации правдоподобия. А в знаменатель суются _несколько_ рандомных слов, и считается, что они в контексте не возникают вместе. Это и есть __Negative Sampling__."
   ]
  },
  {
   "cell_type": "markdown",
   "metadata": {},
   "source": [
    "##### Итого"
   ]
  },
  {
   "cell_type": "markdown",
   "metadata": {},
   "source": [
    "$$ J(\\theta) = \\sum_{t=1}^T J_t(\\theta) $$"
   ]
  },
  {
   "cell_type": "markdown",
   "metadata": {},
   "source": [
    "$$ J_t(\\theta) = log \\sigma (u_o^Tv_c) + \\sum_{i=1}^k \\mathbb{E}_{ j \\sim P(w) } [ log \\: \\sigma (-u_j^Tv_c) ] = $$"
   ]
  },
  {
   "cell_type": "markdown",
   "metadata": {},
   "source": [
    "$$ = log\\: \\sigma (u_o^Tv_c) + \\sum_{j \\sim P(w)} [ log \\: \\sigma (-u_j^Tv_c) ] $$"
   ]
  },
  {
   "cell_type": "markdown",
   "metadata": {},
   "source": [
    ", здесь $t$ - окно, с которым ты идешь по корпусу слов. \n",
    "\n",
    "Первая часть лосса - мы поднимаем вероятность взаимного возникновения слов. Вторая часть - мы берем несколько слов и минимизируем вероятность их взаимного возникновения. Берем, точнее, что-то типа $k=10$ слов."
   ]
  },
  {
   "cell_type": "markdown",
   "metadata": {},
   "source": [
    "$$ P(w) = \\frac{U(w)^{3/4}}{Z} $$"
   ]
  },
  {
   "cell_type": "markdown",
   "metadata": {},
   "source": [
    "$U(w)$ - распределение униграмм, 3/4 - хак, чтобы не селектить только \"the\" или \"a\". __Что такое Z?!__"
   ]
  },
  {
   "cell_type": "markdown",
   "metadata": {
    "collapsed": true
   },
   "source": [
    "## Window-based co-occurence matrix"
   ]
  },
  {
   "cell_type": "markdown",
   "metadata": {},
   "source": [
    "Corpus:\n",
    "\n",
    "> I like deep learning.\n",
    "\n",
    "> I like NLP.\n",
    "\n",
    "> I enjoy flights."
   ]
  },
  {
   "cell_type": "markdown",
   "metadata": {},
   "source": [
    "| counts   | I | like | enjoy | deep | learning | NLP | flights | . |\n",
    "|:--------:|:-:|:----:|:-----:|:----:|:--------:|:---:|:-------:|:-:|\n",
    "| I        | 0 | 2    | 1     | 0    | 0        | 0   | 0       | 0 |\n",
    "| like     | 2 | 0    | 0     | 1    | 0        | 1   | 0       | 0 |\n",
    "| enjoy    | 1 | 0    | 0     | 0    | 0        | 0   | 1       | 0 |\n",
    "| deep     | 0 | 1    | 0     | 0    | 1        | 0   | 0       | 0 |\n",
    "| learning | 0 | 0    | 0     | 1    | 0        | 0   | 0       | 1 |\n",
    "| NLP      | 0 | 1    | 0     | 0    | 0        | 0   | 0       | 1 |\n",
    "| flights  | 0 | 0    | 1     | 0    | 0        | 0   | 0       | 1 |\n",
    "| .        | 0 | 0    | 0     | 0    | 1        | 1   | 1       | 0 |"
   ]
  },
  {
   "cell_type": "markdown",
   "metadata": {},
   "source": [
    "Взял потом такой SVD, ну и ты понял. От матрицы $U$ построил первые 2 компоненты."
   ]
  },
  {
   "cell_type": "code",
   "execution_count": 6,
   "metadata": {
    "ExecuteTime": {
     "end_time": "2017-12-10T00:34:59.236247",
     "start_time": "2017-12-10T00:34:59.230985"
    },
    "collapsed": true
   },
   "outputs": [],
   "source": [
    "import numpy as np\n",
    "import numpy.linalg as la\n",
    "\n",
    "import matplotlib.pyplot as plt\n",
    "%matplotlib inline"
   ]
  },
  {
   "cell_type": "code",
   "execution_count": 2,
   "metadata": {
    "ExecuteTime": {
     "end_time": "2017-12-10T00:34:31.170894",
     "start_time": "2017-12-10T00:34:31.167530"
    },
    "collapsed": true
   },
   "outputs": [],
   "source": [
    "words = ['I', 'like', 'enjoy', 'deep', 'learning', 'NLP', 'flights', '.']"
   ]
  },
  {
   "cell_type": "code",
   "execution_count": 3,
   "metadata": {
    "ExecuteTime": {
     "end_time": "2017-12-10T00:34:31.867805",
     "start_time": "2017-12-10T00:34:31.860998"
    },
    "collapsed": true
   },
   "outputs": [],
   "source": [
    "cooccurence = np.array([\n",
    "    [0,2,1,0,0,0,0,0],\n",
    "    [2,0,0,1,0,1,0,0],\n",
    "    [1,0,0,0,0,0,1,0],\n",
    "    [0,1,0,0,1,0,0,0],\n",
    "    [0,0,0,1,0,0,0,1],\n",
    "    [0,1,0,0,0,0,0,1],\n",
    "    [0,0,0,0,0,0,0,1],\n",
    "    [0,0,0,0,1,1,1,0],\n",
    "])"
   ]
  },
  {
   "cell_type": "code",
   "execution_count": 4,
   "metadata": {
    "ExecuteTime": {
     "end_time": "2017-12-10T00:34:35.174291",
     "start_time": "2017-12-10T00:34:35.171193"
    },
    "collapsed": true
   },
   "outputs": [],
   "source": [
    "U, s, Vh = la.svd(cooccurence, full_matrices=False)"
   ]
  },
  {
   "cell_type": "code",
   "execution_count": 14,
   "metadata": {
    "ExecuteTime": {
     "end_time": "2017-12-10T00:36:17.940881",
     "start_time": "2017-12-10T00:36:17.697196"
    },
    "collapsed": false
   },
   "outputs": [
    {
     "data": {
      "image/png": "[encoded data removed]",
      "text/plain": [
       "<matplotlib.figure.Figure at 0x10d297ba8>"
      ]
     },
     "metadata": {},
     "output_type": "display_data"
    }
   ],
   "source": [
    "for i in range(len(words)):\n",
    "    plt.text(U[i,0], U[i,1], words[i])\n",
    "plt.xlim((-1, 0.25));\n",
    "plt.ylim((-1, 1));"
   ]
  },
  {
   "cell_type": "markdown",
   "metadata": {},
   "source": [
    "Стоп-слова влияют слишком сильно?\n",
    "\n",
    "1. Выбрось их\n",
    "2. Или замени на $min(100, x)$\n",
    "\n",
    "Ну и еще много всего. Играешься с этой матрицей, и все становится лучше. Прикол в том, что так игрались в 2005, лол. Но результаты были классные! \n",
    "\n",
    "`See: \"An Improved Model of Semantic Similarity Based on Lexical Co-Occurence, Rodhe, 2005\"`"
   ]
  },
  {
   "cell_type": "markdown",
   "metadata": {},
   "source": [
    "Дорого считать."
   ]
  },
  {
   "cell_type": "markdown",
   "metadata": {},
   "source": [
    "Более сложная морфология в других языках является мотиватором спуститься на уровень символов."
   ]
  },
  {
   "cell_type": "markdown",
   "metadata": {},
   "source": [
    "<img src=\"../img/cbvsdp.png\" width=\"60%\">"
   ]
  },
  {
   "cell_type": "markdown",
   "metadata": {},
   "source": [
    "# GloVe - попытка соединить два мира"
   ]
  },
  {
   "cell_type": "markdown",
   "metadata": {},
   "source": [
    "$$ J(\\theta) = \\frac{1}{2}\\sum_{i,j=1}^{W} f(P_{ij})(u_i^Tv_j - logP_{ij})^2 $$"
   ]
  },
  {
   "cell_type": "markdown",
   "metadata": {},
   "source": [
    ", здесь $P_{ij}$ - сколько раз $i$-ое и $j$-ое слова встретились, то есть элемент из матрицы встречаемости выше. Стараемся минимизировать дистанцию между скалярным произведением и log от количества.\n",
    "\n",
    "$f$ позволяет как-то перевзвесить коэффициенты в $P$, например, урезать стоп-слова: $min(P_{ij}, 100)$. "
   ]
  },
  {
   "cell_type": "markdown",
   "metadata": {},
   "source": [
    "* Быстро тренируется.\n",
    "* Скейлится на большой корпус.\n",
    "* Круто себя показывает даже на мелких корпусах или мелких размерах выходных векторов.\n",
    "\n",
    "`See: \"Pennington, Socher, Manning (2014)\"`"
   ]
  },
  {
   "cell_type": "markdown",
   "metadata": {},
   "source": [
    "__Интуиция:__ Word2Vec пытается выучить встречаемости в рамках одного окна. GloVe пытается выучить частоты встречаемости в общей статистике того, как эти векторы появляются. "
   ]
  },
  {
   "cell_type": "markdown",
   "metadata": {},
   "source": [
    "## Evaluating"
   ]
  },
  {
   "cell_type": "markdown",
   "metadata": {},
   "source": [
    "* На метриках, статистиках и сравнении\n",
    "* На реальной задаче (трудоемко, правда)"
   ]
  },
  {
   "cell_type": "markdown",
   "metadata": {},
   "source": [
    "# Применение GloVe к классификации"
   ]
  },
  {
   "cell_type": "markdown",
   "metadata": {},
   "source": [
    "Например, является ли слово локацией. NER."
   ]
  },
  {
   "cell_type": "markdown",
   "metadata": {},
   "source": [
    "$$ p(y|x) = \\frac{exp(W_yx)}{\\sum_{c=1}^C exp(W_cx)} $$"
   ]
  },
  {
   "cell_type": "markdown",
   "metadata": {},
   "source": [
    "$$ W \\in \\mathbb{R}^{C \\times d} $$"
   ]
  },
  {
   "cell_type": "markdown",
   "metadata": {},
   "source": [
    "Loss: cross-entropy.\n",
    "\n",
    "Чтобы вычислить $p(y|x)$: \n",
    "\n",
    "* возьмем $y$-ую строку $W$ и умножим скалярно на $x$:"
   ]
  },
  {
   "cell_type": "markdown",
   "metadata": {},
   "source": [
    "$$ W_yx = \\sum_{i=1}^d W_{yi}x_i = f_y $$"
   ]
  },
  {
   "cell_type": "markdown",
   "metadata": {},
   "source": [
    "* Вычисляем все $f_c, c=\\overline{1,C}$ "
   ]
  },
  {
   "cell_type": "markdown",
   "metadata": {},
   "source": [
    "* Нормализуем в вероятности с помощью softmax:"
   ]
  },
  {
   "cell_type": "markdown",
   "metadata": {},
   "source": [
    "$$ p(y|x) = \\frac{exp(f_y)}{\\sum_{c=1}^C exp(f_c)} $$"
   ]
  }
 ],
 "metadata": {
  "kernelspec": {
   "display_name": "Python 3",
   "language": "python",
   "name": "python3"
  },
  "language_info": {
   "codemirror_mode": {
    "name": "ipython",
    "version": 3
   },
   "file_extension": ".py",
   "mimetype": "text/x-python",
   "name": "python",
   "nbconvert_exporter": "python",
   "pygments_lexer": "ipython3",
   "version": "3.6.0"
  },
  "toc": {
   "colors": {
    "hover_highlight": "#DAA520",
    "running_highlight": "#FF0000",
    "selected_highlight": "#FFD700"
   },
   "moveMenuLeft": true,
   "nav_menu": {
    "height": "30px",
    "width": "252px"
   },
   "navigate_menu": true,
   "number_sections": true,
   "sideBar": true,
   "threshold": 4,
   "toc_cell": false,
   "toc_section_display": "block",
   "toc_window_display": false
  }
 },
 "nbformat": 4,
 "nbformat_minor": 2
}
